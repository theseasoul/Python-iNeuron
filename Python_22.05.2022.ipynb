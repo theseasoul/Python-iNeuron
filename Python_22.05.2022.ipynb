{
 "cells": [
  {
   "cell_type": "code",
   "execution_count": 1,
   "id": "cd5ca5d8",
   "metadata": {},
   "outputs": [
    {
     "name": "stdout",
     "output_type": "stream",
     "text": [
      "this is my first condition\n"
     ]
    }
   ],
   "source": [
    "a = 10\n",
    "if a == 10 :\n",
    "    print(\"this is my first condition\")"
   ]
  },
  {
   "cell_type": "code",
   "execution_count": 2,
   "id": "0d9552b2",
   "metadata": {},
   "outputs": [],
   "source": [
    "a = 10\n",
    "if a >5 :\n",
    "    pass"
   ]
  },
  {
   "cell_type": "code",
   "execution_count": 3,
   "id": "680b13cd",
   "metadata": {},
   "outputs": [
    {
     "name": "stdout",
     "output_type": "stream",
     "text": [
      "print this if condition is true\n"
     ]
    }
   ],
   "source": [
    "a = 10\n",
    "if a > 8 :\n",
    "    print (\"print this if condition is true\")"
   ]
  },
  {
   "cell_type": "code",
   "execution_count": 4,
   "id": "3777ea6e",
   "metadata": {},
   "outputs": [],
   "source": [
    "a = 10\n",
    "if a <8 :\n",
    "    print (\"print this if condition is true\")"
   ]
  },
  {
   "cell_type": "code",
   "execution_count": 5,
   "id": "57ef5e7b",
   "metadata": {},
   "outputs": [
    {
     "name": "stdout",
     "output_type": "stream",
     "text": [
      "my condition is false\n"
     ]
    }
   ],
   "source": [
    "a = 10\n",
    "if a != 11:\n",
    "    print (\"my condition is false\")\n",
    "else :\n",
    "    print (\"print this\")"
   ]
  },
  {
   "cell_type": "code",
   "execution_count": 6,
   "id": "a8c777f9",
   "metadata": {},
   "outputs": [
    {
     "name": "stdout",
     "output_type": "stream",
     "text": [
      "print this\n"
     ]
    }
   ],
   "source": [
    "a = 10\n",
    "if a == 11:\n",
    "    print (\"my condition is false\")\n",
    "else :\n",
    "    print (\"print this\")"
   ]
  },
  {
   "cell_type": "code",
   "execution_count": 7,
   "id": "8d44e06f",
   "metadata": {},
   "outputs": [
    {
     "name": "stdout",
     "output_type": "stream",
     "text": [
      "if all the blocks will fail the do this\n"
     ]
    }
   ],
   "source": [
    "a = 10\n",
    "if a == 12:\n",
    "    print (\"here are trying to compare 10 with 12\")\n",
    "elif a == 11:\n",
    "    print (\"we are trying to compare 10 with 11\")\n",
    "else :\n",
    "    print (\"if all the blocks will fail the do this\")"
   ]
  },
  {
   "cell_type": "code",
   "execution_count": 8,
   "id": "f76d4c9c",
   "metadata": {},
   "outputs": [
    {
     "name": "stdout",
     "output_type": "stream",
     "text": [
      "we are trying to compare 10 with 11\n"
     ]
    }
   ],
   "source": [
    "a = 10\n",
    "if a == 12:\n",
    "    print (\"here are trying to compare 10 with 12\")\n",
    "elif a == 10:\n",
    "    print (\"we are trying to compare 10 with 11\")\n",
    "else :\n",
    "    print (\"if all the blocks will fail the do this\")"
   ]
  },
  {
   "cell_type": "code",
   "execution_count": 9,
   "id": "793aca0a",
   "metadata": {},
   "outputs": [],
   "source": [
    "price = 500\n",
    "\n",
    "if price >500:\n",
    "    print (\"maybe i wont be able to buy a jacket\")\n",
    "elif price <500:\n",
    "    print (\"i will be able to buy a jacket\")"
   ]
  },
  {
   "cell_type": "code",
   "execution_count": 10,
   "id": "8614eb59",
   "metadata": {},
   "outputs": [
    {
     "name": "stdout",
     "output_type": "stream",
     "text": [
      "i will be able to buy a jacket\n"
     ]
    }
   ],
   "source": [
    "price = 500\n",
    "\n",
    "if price >500:\n",
    "    print (\"maybe i wont be able to buy a jacket\")\n",
    "elif price <=500:\n",
    "    print (\"i will be able to buy a jacket\")"
   ]
  },
  {
   "cell_type": "code",
   "execution_count": 12,
   "id": "b368f899",
   "metadata": {},
   "outputs": [
    {
     "data": {
      "text/plain": [
       "False"
      ]
     },
     "execution_count": 12,
     "metadata": {},
     "output_type": "execute_result"
    }
   ],
   "source": [
    "price <500"
   ]
  },
  {
   "cell_type": "code",
   "execution_count": 13,
   "id": "6f2aa159",
   "metadata": {},
   "outputs": [
    {
     "data": {
      "text/plain": [
       "False"
      ]
     },
     "execution_count": 13,
     "metadata": {},
     "output_type": "execute_result"
    }
   ],
   "source": [
    "price >500"
   ]
  },
  {
   "cell_type": "code",
   "execution_count": 14,
   "id": "b612d026",
   "metadata": {},
   "outputs": [
    {
     "data": {
      "text/plain": [
       "True"
      ]
     },
     "execution_count": 14,
     "metadata": {},
     "output_type": "execute_result"
    }
   ],
   "source": [
    "price ==500"
   ]
  },
  {
   "cell_type": "code",
   "execution_count": 16,
   "id": "f1232bd2",
   "metadata": {},
   "outputs": [
    {
     "data": {
      "text/plain": [
       "True"
      ]
     },
     "execution_count": 16,
     "metadata": {},
     "output_type": "execute_result"
    }
   ],
   "source": [
    "l = [1,2,3,4,5,6]\n",
    "2 in l"
   ]
  },
  {
   "cell_type": "code",
   "execution_count": 18,
   "id": "8fed1686",
   "metadata": {},
   "outputs": [
    {
     "name": "stdout",
     "output_type": "stream",
     "text": [
      "do not perform this task\n"
     ]
    }
   ],
   "source": [
    "if 60 in l :\n",
    "    print (\"try to perform a task\")\n",
    "else :\n",
    "    print (\"do not perform this task\")"
   ]
  },
  {
   "cell_type": "code",
   "execution_count": 19,
   "id": "91bfd101",
   "metadata": {},
   "outputs": [
    {
     "data": {
      "text/plain": [
       "False"
      ]
     },
     "execution_count": 19,
     "metadata": {},
     "output_type": "execute_result"
    }
   ],
   "source": [
    "60 in l"
   ]
  },
  {
   "cell_type": "code",
   "execution_count": 20,
   "id": "ef0d022c",
   "metadata": {},
   "outputs": [
    {
     "data": {
      "text/plain": [
       "[1, 2, 3, 4, 5, 6]"
      ]
     },
     "execution_count": 20,
     "metadata": {},
     "output_type": "execute_result"
    }
   ],
   "source": [
    "l"
   ]
  },
  {
   "cell_type": "code",
   "execution_count": 21,
   "id": "d8a1864d",
   "metadata": {},
   "outputs": [
    {
     "name": "stdout",
     "output_type": "stream",
     "text": [
      "try to do addition\n"
     ]
    }
   ],
   "source": [
    "if 1 in l :\n",
    "    print (\"try to do addition\")\n",
    "elif 2 in l:\n",
    "    print (\"try to do sub\")\n",
    "elif 3 in l:\n",
    "    print (\"try to do mul\")"
   ]
  },
  {
   "cell_type": "code",
   "execution_count": 22,
   "id": "9b8161a9",
   "metadata": {},
   "outputs": [
    {
     "name": "stdout",
     "output_type": "stream",
     "text": [
      "try to do sub\n"
     ]
    }
   ],
   "source": [
    "if 10 in l :\n",
    "    print (\"try to do addition\")\n",
    "elif 2 in l:\n",
    "    print (\"try to do sub\")\n",
    "elif 3 in l:\n",
    "    print (\"try to do mul\")"
   ]
  },
  {
   "cell_type": "code",
   "execution_count": 23,
   "id": "7844b926",
   "metadata": {},
   "outputs": [
    {
     "name": "stdout",
     "output_type": "stream",
     "text": [
      "try to do addition\n",
      "this is a new statement\n"
     ]
    }
   ],
   "source": [
    "if 1 in l :\n",
    "    print (\"try to do addition\")\n",
    "elif 2 in l:\n",
    "    print (\"try to do sub\")\n",
    "elif 3 in l:\n",
    "    print (\"try to do mul\")\n",
    "if 4 in l:\n",
    "    print (\"this is a new statement\")"
   ]
  },
  {
   "cell_type": "code",
   "execution_count": 24,
   "id": "a70d7e60",
   "metadata": {},
   "outputs": [],
   "source": [
    "a = 400"
   ]
  },
  {
   "cell_type": "code",
   "execution_count": 25,
   "id": "3e051797",
   "metadata": {},
   "outputs": [
    {
     "name": "stdout",
     "output_type": "stream",
     "text": [
      "sdmcbdcljsdd\n"
     ]
    }
   ],
   "source": [
    "b = input()"
   ]
  },
  {
   "cell_type": "code",
   "execution_count": 26,
   "id": "23922b7c",
   "metadata": {},
   "outputs": [
    {
     "data": {
      "text/plain": [
       "str"
      ]
     },
     "execution_count": 26,
     "metadata": {},
     "output_type": "execute_result"
    }
   ],
   "source": [
    "type(b)"
   ]
  },
  {
   "cell_type": "code",
   "execution_count": 27,
   "id": "836cbd93",
   "metadata": {},
   "outputs": [
    {
     "name": "stdout",
     "output_type": "stream",
     "text": [
      "215265153\n"
     ]
    }
   ],
   "source": [
    "b = int(input())"
   ]
  },
  {
   "cell_type": "code",
   "execution_count": 28,
   "id": "a5ace39d",
   "metadata": {},
   "outputs": [
    {
     "data": {
      "text/plain": [
       "int"
      ]
     },
     "execution_count": 28,
     "metadata": {},
     "output_type": "execute_result"
    }
   ],
   "source": [
    "type(b)"
   ]
  },
  {
   "cell_type": "code",
   "execution_count": 37,
   "id": "55c19738",
   "metadata": {},
   "outputs": [
    {
     "name": "stdout",
     "output_type": "stream",
     "text": [
      "490\n",
      "i will be able to buy something\n",
      "i wont be able to buy anything\n"
     ]
    }
   ],
   "source": [
    "price = int(input())\n",
    "if price <500:\n",
    "    print (\"i will be able to buy something\")\n",
    "    if price <400:\n",
    "        print (\"i will be able to buy jacket\")\n",
    "    elif price<300:\n",
    "        print (\"i will be able to buy a shirt\")\n",
    "    else: \n",
    "        print (\"i wont be able to buy anything\")\n",
    "else :\n",
    "    print (\" i wont be able to buy anything with this price tag\")"
   ]
  },
  {
   "cell_type": "code",
   "execution_count": 36,
   "id": "3f067f19",
   "metadata": {},
   "outputs": [
    {
     "name": "stdout",
     "output_type": "stream",
     "text": [
      "700\n",
      " i wont be able to buy anything with this price tag\n"
     ]
    }
   ],
   "source": [
    "price = int(input())\n",
    "if price <500:\n",
    "    print (\"i will be able to buy something\")\n",
    "    if price <400:\n",
    "        print (\"i will be able to buy jacket\")\n",
    "    elif price<300:\n",
    "        print (\"i will be able to buy a shirt\")\n",
    "    else: \n",
    "        print (\"i wont be able to buy anything\")\n",
    "else :\n",
    "    print (\" i wont be able to buy anything with this price tag\")"
   ]
  },
  {
   "cell_type": "code",
   "execution_count": null,
   "id": "e297153a",
   "metadata": {},
   "outputs": [],
   "source": [
    "price = int(input())\n",
    "if price <500:\n",
    "    print (\"i will be able to buy something\")\n",
    "    if price <400:\n",
    "        print (\"i will be able to buy jacket\")\n",
    "    elif price<300:\n",
    "        \n",
    "        print (\"i will be able to buy a shirt\")\n",
    "        if price < 200:\n",
    "            print (\"i would like to do something\")\n",
    "    else: \n",
    "        print (\"i wont be able to buy anything\")\n",
    "else :\n",
    "    print (\"i wont be able to buy anything with this price tag\")\n",
    "    if price > 500:\n",
    "        print (\"lets try something else\")"
   ]
  },
  {
   "cell_type": "code",
   "execution_count": null,
   "id": "a7700dff",
   "metadata": {},
   "outputs": [],
   "source": [
    "marks = int(input())\n",
    "if marks <600:\n",
    "    print (\"no gre\")\n",
    "    if price <500:\n",
    "        print (\"toffel\")\n",
    "        if price>600:\n",
    "            print (\"gre\")\n",
    "        if price < 400:\n",
    "            print (\"try something else\")\n",
    "    else: \n",
    "        print (\"you got toffel\")\n",
    "else:\n",
    "    print (\"you got Gre congratulations\")"
   ]
  },
  {
   "cell_type": "code",
   "execution_count": null,
   "id": "5007f5a0",
   "metadata": {},
   "outputs": [],
   "source": [
    "val = float(input(\"enter a floating point number\"))\n",
    "if val >= 0 :\n",
    "    if val == 0 :\n",
    "        print (\"entered value is zero\")\n",
    "    else :\n",
    "        print(\"entered value is positive number\")\n",
    "else :\n",
    "    print (\"entered value is a negative number\")"
   ]
  },
  {
   "cell_type": "code",
   "execution_count": null,
   "id": "4c93fa28",
   "metadata": {},
   "outputs": [],
   "source": [
    "a = 10\n",
    "if a <10 or a >10:\n",
    "    print (\"try to do something\")"
   ]
  },
  {
   "cell_type": "code",
   "execution_count": null,
   "id": "1d182fa0",
   "metadata": {},
   "outputs": [],
   "source": [
    "a = 10\n",
    "if a <10 and a >10:\n",
    "    print (\"try to do something\")"
   ]
  },
  {
   "cell_type": "code",
   "execution_count": null,
   "id": "6ab0ff78",
   "metadata": {},
   "outputs": [],
   "source": [
    "a = 10\n",
    "if a <10 and a ==10:\n",
    "    print (\"try to do something\")"
   ]
  },
  {
   "cell_type": "code",
   "execution_count": null,
   "id": "914954b2",
   "metadata": {},
   "outputs": [],
   "source": [
    "a = \"pran\"\n",
    "if a == \"pran\" and a == \"Pran\":\n",
    "    print (\"this is pran\")"
   ]
  },
  {
   "cell_type": "code",
   "execution_count": null,
   "id": "1dace595",
   "metadata": {},
   "outputs": [],
   "source": [
    "a = \"pran\"\n",
    "if a == \"pran\" or a == \"Pran\":\n",
    "    print(\"this is pran\")"
   ]
  },
  {
   "cell_type": "code",
   "execution_count": null,
   "id": "9c2b2434",
   "metadata": {},
   "outputs": [],
   "source": [
    "a = 10\n",
    "b = 11\n",
    "c = 12\n",
    "d = 13\n",
    "if a ==9 or b ==11 and c==12 and d ==13:\n",
    "    print(\"lets do smething\")"
   ]
  },
  {
   "cell_type": "code",
   "execution_count": null,
   "id": "6758ef30",
   "metadata": {},
   "outputs": [],
   "source": [
    "d = {'key1' : \"value\", \"key2\" : \"pran\", \"key3\" : \"iNeuron\"}"
   ]
  },
  {
   "cell_type": "code",
   "execution_count": null,
   "id": "43b234f2",
   "metadata": {},
   "outputs": [],
   "source": [
    "if d ['key1'] == \"value\" and d['key2'] == \"pran\" and d['key3'] == \"iNeuron\":\n",
    "    print (\"all the values are varified\")\n",
    "    print(d.values())\n",
    "else:\n",
    "    print (\"all the values are not verified\")"
   ]
  },
  {
   "cell_type": "code",
   "execution_count": null,
   "id": "c18a21b9",
   "metadata": {},
   "outputs": [],
   "source": []
  }
 ],
 "metadata": {
  "kernelspec": {
   "display_name": "Python 3 (ipykernel)",
   "language": "python",
   "name": "python3"
  },
  "language_info": {
   "codemirror_mode": {
    "name": "ipython",
    "version": 3
   },
   "file_extension": ".py",
   "mimetype": "text/x-python",
   "name": "python",
   "nbconvert_exporter": "python",
   "pygments_lexer": "ipython3",
   "version": "3.9.7"
  }
 },
 "nbformat": 4,
 "nbformat_minor": 5
}
